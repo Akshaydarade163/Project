{
  "nbformat": 4,
  "nbformat_minor": 0,
  "metadata": {
    "colab": {
      "private_outputs": true,
      "provenance": [],
      "collapsed_sections": [
        "mDgbUHAGgjLW",
        "UV0SzAkaZNRQ",
        "YPEH6qLeZNRQ",
        "EXh0U9oCveiU",
        "22aHeOlLveiV"
      ]
    },
    "kernelspec": {
      "name": "python3",
      "display_name": "Python 3"
    },
    "language_info": {
      "name": "python"
    }
  },
  "cells": [
    {
      "cell_type": "markdown",
      "source": [
        "# **Project Name**    - Play Store App Review Analysis\n",
        "\n"
      ],
      "metadata": {
        "id": "vncDsAP0Gaoa"
      }
    },
    {
      "cell_type": "markdown",
      "source": [
        "##### **Project Type**    - EDA\n",
        "##### **Contribution**    - Individual\n"
      ],
      "metadata": {
        "id": "beRrZCGUAJYm"
      }
    },
    {
      "cell_type": "markdown",
      "source": [
        "# **Project Summary -**"
      ],
      "metadata": {
        "id": "FJNUwmbgGyua"
      }
    },
    {
      "cell_type": "markdown",
      "source": [
        "The Play Store App Review Analysis project aims to leverage Exploratory Data Analysis (EDA) to uncover insights from a dataset comprising app names, categories, ratings, reviews, sizes, installs, types, prices, content ratings, genres, last updated dates, current versions, and Android version requirements. Using Python libraries such as NumPy, Pandas, Matplotlib, and Seaborn, we will clean the data, handle missing values, and perform various analyses to understand app performance, user feedback, and market trends. The goal is to identify key factors influencing app ratings, popular app categories, and common user concerns, providing actionable insights for app developers to enhance their apps and user satisfaction."
      ],
      "metadata": {
        "id": "F6v_1wHtG2nS"
      }
    },
    {
      "cell_type": "markdown",
      "source": [
        "# **GitHub Link -**"
      ],
      "metadata": {
        "id": "w6K7xa23Elo4"
      }
    },
    {
      "cell_type": "markdown",
      "source": [
        "Provide your GitHub Link here."
      ],
      "metadata": {
        "id": "h1o69JH3Eqqn"
      }
    },
    {
      "cell_type": "markdown",
      "source": [
        "# **Problem Statement**\n"
      ],
      "metadata": {
        "id": "yQaldy8SH6Dl"
      }
    },
    {
      "cell_type": "markdown",
      "source": [
        "The Google Play Store hosts millions of apps across various categories, and user reviews play a crucial role in determining an app's success and visibility. However, the vast amount of review data available makes it challenging for developers to extract meaningful insights manually. This project seeks to address the following questions:\n",
        "\n",
        "What are the key factors that influence app ratings and user reviews on the Play Store?\n",
        "How do app characteristics such as category, size, type (free or paid), and content rating impact their performance and popularity?\n",
        "What common themes and issues can be identified from user reviews that can help developers improve their apps?\n",
        "How do trends over time, such as the frequency of updates, affect user satisfaction and app ratings?\n",
        "By analyzing a comprehensive dataset of Play Store app reviews and related attributes, we aim to provide actionable insights and recommendations for app developers to enhance their apps, improve user satisfaction, and increase their market competitiveness"
      ],
      "metadata": {
        "id": "DpeJGUA3kjGy"
      }
    },
    {
      "cell_type": "markdown",
      "source": [
        "#### **Define Your Business Objective?**"
      ],
      "metadata": {
        "id": "PH-0ReGfmX4f"
      }
    },
    {
      "cell_type": "markdown",
      "source": [
        "The primary business objective of the Play Store App Review Analysis project is to empower app developers and stakeholders with data-driven insights to improve app quality, enhance user satisfaction, and optimize app store performance. Specifically, the project aims to:\n",
        "\n",
        "Improve App Ratings: Identify the key factors influencing app ratings and user feedback to help developers understand what drives positive and negative reviews.\n",
        "Enhance User Experience: Analyze common themes and issues in user reviews to provide actionable recommendations for improving app features and usability.\n",
        "Optimize App Performance: Examine the impact of app characteristics such as category, size, type, and content rating on their performance to guide strategic decisions on app development and marketing.\n",
        "Increase Market Competitiveness: Utilize trend analysis to understand the effects of updates and other temporal factors on app ratings and installs, helping developers stay competitive in a dynamic market.\n",
        "Support Data-Driven Decision Making: Provide comprehensive, visual, and easily interpretable insights that enable developers to make informed decisions based on user feedback and market trends."
      ],
      "metadata": {
        "id": "PhDvGCAqmjP1"
      }
    },
    {
      "cell_type": "markdown",
      "source": [
        "# **General Guidelines** : -  "
      ],
      "metadata": {
        "id": "mDgbUHAGgjLW"
      }
    },
    {
      "cell_type": "markdown",
      "source": [
        "1.   Well-structured, formatted, and commented code is required.\n",
        "2.   Exception Handling, Production Grade Code & Deployment Ready Code will be a plus. Those students will be awarded some additional credits.\n",
        "     \n",
        "     The additional credits will have advantages over other students during Star Student selection.\n",
        "       \n",
        "             [ Note: - Deployment Ready Code is defined as, the whole .ipynb notebook should be executable in one go\n",
        "                       without a single error logged. ]\n",
        "\n",
        "3.   Each and every logic should have proper comments.\n",
        "4. You may add as many number of charts you want. Make Sure for each and every chart the following format should be answered.\n",
        "        \n",
        "\n",
        "```\n",
        "# Chart visualization code\n",
        "```\n",
        "            \n",
        "\n",
        "*   Why did you pick the specific chart?\n",
        "*   What is/are the insight(s) found from the chart?\n",
        "* Will the gained insights help creating a positive business impact?\n",
        "Are there any insights that lead to negative growth? Justify with specific reason.\n",
        "\n",
        "5. You have to create at least 20 logical & meaningful charts having important insights.\n",
        "\n",
        "\n",
        "[ Hints : - Do the Vizualization in  a structured way while following \"UBM\" Rule.\n",
        "\n",
        "U - Univariate Analysis,\n",
        "\n",
        "B - Bivariate Analysis (Numerical - Categorical, Numerical - Numerical, Categorical - Categorical)\n",
        "\n",
        "M - Multivariate Analysis\n",
        " ]\n",
        "\n",
        "\n",
        "\n"
      ],
      "metadata": {
        "id": "ZrxVaUj-hHfC"
      }
    },
    {
      "cell_type": "markdown",
      "source": [
        "# ***Let's Begin !***"
      ],
      "metadata": {
        "id": "O_i_v8NEhb9l"
      }
    },
    {
      "cell_type": "markdown",
      "source": [
        "## ***1. Know Your Data***"
      ],
      "metadata": {
        "id": "HhfV-JJviCcP"
      }
    },
    {
      "cell_type": "markdown",
      "source": [
        "### Import Libraries"
      ],
      "metadata": {
        "id": "Y3lxredqlCYt"
      }
    },
    {
      "cell_type": "code",
      "source": [
        "import pandas as pd\n",
        "import numpy as np\n",
        "import matplotlib.pyplot as plt\n",
        "import seaborn as sns"
      ],
      "metadata": {
        "id": "M8Vqi-pPk-HR"
      },
      "execution_count": null,
      "outputs": []
    },
    {
      "cell_type": "markdown",
      "source": [
        "### Dataset Loading"
      ],
      "metadata": {
        "id": "3RnN4peoiCZX"
      }
    },
    {
      "cell_type": "code",
      "source": [
        "data=pd.read_csv('/content/Play Store Data.csv')"
      ],
      "metadata": {
        "id": "4CkvbW_SlZ_R"
      },
      "execution_count": null,
      "outputs": []
    },
    {
      "cell_type": "markdown",
      "source": [
        "### Dataset First View"
      ],
      "metadata": {
        "id": "x71ZqKXriCWQ"
      }
    },
    {
      "cell_type": "code",
      "source": [
        "data.head()"
      ],
      "metadata": {
        "id": "LWNFOSvLl09H"
      },
      "execution_count": null,
      "outputs": []
    },
    {
      "cell_type": "markdown",
      "source": [
        "### Dataset Rows & Columns count"
      ],
      "metadata": {
        "id": "7hBIi_osiCS2"
      }
    },
    {
      "cell_type": "code",
      "source": [
        "data.shape"
      ],
      "metadata": {
        "id": "Kllu7SJgmLij"
      },
      "execution_count": null,
      "outputs": []
    },
    {
      "cell_type": "markdown",
      "source": [
        "### Dataset Information"
      ],
      "metadata": {
        "id": "JlHwYmJAmNHm"
      }
    },
    {
      "cell_type": "code",
      "source": [
        "data.info()"
      ],
      "metadata": {
        "id": "e9hRXRi6meOf"
      },
      "execution_count": null,
      "outputs": []
    },
    {
      "cell_type": "markdown",
      "source": [
        "#### Duplicate Values"
      ],
      "metadata": {
        "id": "35m5QtbWiB9F"
      }
    },
    {
      "cell_type": "code",
      "source": [
        "data.duplicated().sum()"
      ],
      "metadata": {
        "id": "1sLdpKYkmox0"
      },
      "execution_count": null,
      "outputs": []
    },
    {
      "cell_type": "markdown",
      "source": [
        "#### Missing Values/Null Values"
      ],
      "metadata": {
        "id": "PoPl-ycgm1ru"
      }
    },
    {
      "cell_type": "code",
      "source": [
        "data.isnull().sum()"
      ],
      "metadata": {
        "id": "GgHWkxvamxVg"
      },
      "execution_count": null,
      "outputs": []
    },
    {
      "cell_type": "code",
      "source": [
        "import missingno\n",
        "missingno.bar(data,color='#0e69b3')"
      ],
      "metadata": {
        "id": "3q5wnI3om9sJ"
      },
      "execution_count": null,
      "outputs": []
    },
    {
      "cell_type": "markdown",
      "source": [
        "### What did you know about your dataset?"
      ],
      "metadata": {
        "id": "H0kj-8xxnORC"
      }
    },
    {
      "cell_type": "markdown",
      "source": [
        "The Play Store app review dataset consists of 10,841 entries and 13 columns, providing a comprehensive view of various app attributes. The columns include app name, category, rating, reviews, size, installs, type (free or paid), price, content rating, genres, last updated date, current version, and required Android version. Most columns are of type Object, except for Rating, which is Float64. The dataset has some missing values in the Rating, Type, Content Rating, Current Ver, and Android Ver columns, which will require appropriate handling. Data types for columns like Reviews, Size, Installs, Price, and dates need conversion for accurate analysis. The dataset uses approximately 1.1 MB of memory."
      ],
      "metadata": {
        "id": "gfoNAAC-nUe_"
      }
    },
    {
      "cell_type": "markdown",
      "source": [
        "## ***2. Understanding Your Variables***"
      ],
      "metadata": {
        "id": "nA9Y7ga8ng1Z"
      }
    },
    {
      "cell_type": "code",
      "source": [
        "#dataset columns\n",
        "data.columns"
      ],
      "metadata": {
        "id": "j7xfkqrt5Ag5"
      },
      "execution_count": null,
      "outputs": []
    },
    {
      "cell_type": "code",
      "source": [
        "# Dataset Describe\n",
        "data.describe(include='object')"
      ],
      "metadata": {
        "id": "DnOaZdaE5Q5t"
      },
      "execution_count": null,
      "outputs": []
    },
    {
      "cell_type": "markdown",
      "source": [
        "### Variables Description"
      ],
      "metadata": {
        "id": "PBTbrJXOngz2"
      }
    },
    {
      "cell_type": "markdown",
      "source": [
        "The Play Store app review dataset comprises 10,841 entries with 13 columns, each representing various attributes of apps. These attributes include app names, categories, user reviews, sizes, installs, types (free or paid), prices, content ratings, genres, last updated dates, current versions, and required Android versions. The dataset reveals a diverse range of apps, with the most frequent app being \"ROBLOX\" and the most common category being \"FAMILY.\" Reviews, sizes, installs, prices, and dates are currently stored as objects, requiring conversion for analysis. Notably, the \"Varies with device\" label appears frequently in size and current version fields. The dataset highlights that the majority of apps are free and have a content rating suitable for everyone."
      ],
      "metadata": {
        "id": "aJV4KIxSnxay"
      }
    },
    {
      "cell_type": "markdown",
      "source": [
        "### Check Unique Values for each variable."
      ],
      "metadata": {
        "id": "u3PMJOP6ngxN"
      }
    },
    {
      "cell_type": "code",
      "source": [
        "# Check Unique Values for each variable.\n",
        "data['Category'].unique()"
      ],
      "metadata": {
        "id": "zms12Yq5n-jE"
      },
      "execution_count": null,
      "outputs": []
    },
    {
      "cell_type": "code",
      "source": [
        "data['Reviews'].unique()"
      ],
      "metadata": {
        "id": "SDpIjp3MKdD5"
      },
      "execution_count": null,
      "outputs": []
    },
    {
      "cell_type": "code",
      "source": [
        "data['Size'].unique()"
      ],
      "metadata": {
        "id": "Vx0We16pC4De"
      },
      "execution_count": null,
      "outputs": []
    },
    {
      "cell_type": "code",
      "source": [
        "data['Type'].unique()"
      ],
      "metadata": {
        "id": "m-p_T4YnCcH1"
      },
      "execution_count": null,
      "outputs": []
    },
    {
      "cell_type": "code",
      "source": [
        "data['Price'].unique()"
      ],
      "metadata": {
        "id": "ogSl8uG4CoiO"
      },
      "execution_count": null,
      "outputs": []
    },
    {
      "cell_type": "code",
      "source": [
        "data['Content Rating'].unique()"
      ],
      "metadata": {
        "id": "QiaDc5M9DAcm"
      },
      "execution_count": null,
      "outputs": []
    },
    {
      "cell_type": "code",
      "source": [
        "data['Genres'].unique()"
      ],
      "metadata": {
        "id": "KiUT95pnDJhD"
      },
      "execution_count": null,
      "outputs": []
    },
    {
      "cell_type": "code",
      "source": [
        "data['Last Updated'].unique()"
      ],
      "metadata": {
        "id": "ruo6eEdcDSY7"
      },
      "execution_count": null,
      "outputs": []
    },
    {
      "cell_type": "code",
      "source": [
        "data['Current Ver'].unique()"
      ],
      "metadata": {
        "id": "ljZu5v2wDW7f"
      },
      "execution_count": null,
      "outputs": []
    },
    {
      "cell_type": "code",
      "source": [
        "data['Android Ver'].unique()"
      ],
      "metadata": {
        "id": "SeEOOhEADfGk"
      },
      "execution_count": null,
      "outputs": []
    },
    {
      "cell_type": "markdown",
      "source": [
        "## 3. ***Data Wrangling***"
      ],
      "metadata": {
        "id": "dauF4eBmngu3"
      }
    },
    {
      "cell_type": "markdown",
      "source": [
        "### Data Wrangling Code"
      ],
      "metadata": {
        "id": "bKJF3rekwFvQ"
      }
    },
    {
      "cell_type": "code",
      "source": [
        "# Write your code to make your dataset analysis ready.\n",
        "df=data.copy()"
      ],
      "metadata": {
        "id": "wk-9a2fpoLcV"
      },
      "execution_count": null,
      "outputs": []
    },
    {
      "cell_type": "code",
      "source": [
        "df['Reviews'].str.isnumeric().sum()"
      ],
      "metadata": {
        "id": "wCzGxyDoJ3EF"
      },
      "execution_count": null,
      "outputs": []
    },
    {
      "cell_type": "code",
      "source": [
        "df[~df['Reviews'].str.isnumeric()]"
      ],
      "metadata": {
        "id": "DK-41VEiEBPJ"
      },
      "execution_count": null,
      "outputs": []
    },
    {
      "cell_type": "code",
      "source": [
        "df=df.drop(df.index[10472])"
      ],
      "metadata": {
        "id": "AUiFeKt9KqAq"
      },
      "execution_count": null,
      "outputs": []
    },
    {
      "cell_type": "code",
      "source": [
        "df[~df['Reviews'].str.isnumeric()]"
      ],
      "metadata": {
        "id": "BrC4hcCIKp9W"
      },
      "execution_count": null,
      "outputs": []
    },
    {
      "cell_type": "code",
      "source": [
        "df['Reviews']=df['Reviews'].astype(int)"
      ],
      "metadata": {
        "id": "13I1b34LKp5V"
      },
      "execution_count": null,
      "outputs": []
    },
    {
      "cell_type": "code",
      "source": [
        "df['Size']=df['Size'].str.replace('M','000')\n",
        "df['Size']=df['Size'].str.replace('k','')\n",
        "df['Size']=df['Size'].replace('Varies with device',np.nan)\n",
        "df['Size']=df['Size'].astype(float)"
      ],
      "metadata": {
        "id": "adNSwkGpKpwJ"
      },
      "execution_count": null,
      "outputs": []
    },
    {
      "cell_type": "code",
      "source": [
        "chars=['+',',','$']\n",
        "cols=['Installs','Price']\n",
        "for item in chars:\n",
        "    for col in cols:\n",
        "        df[col]=df[col].str.replace(item,'')"
      ],
      "metadata": {
        "id": "qDecR0sKL0VN"
      },
      "execution_count": null,
      "outputs": []
    },
    {
      "cell_type": "code",
      "source": [
        "df['Installs']=df['Installs'].astype('int')\n",
        "df['Price']=df['Price'].astype('float')"
      ],
      "metadata": {
        "id": "ommPUgzqMvqD"
      },
      "execution_count": null,
      "outputs": []
    },
    {
      "cell_type": "code",
      "source": [
        "df['Last Updated']=pd.to_datetime(df['Last Updated'])\n",
        "df['Day']=df['Last Updated'].dt.day\n",
        "df['Month']=df['Last Updated'].dt.month\n",
        "df['Year']=df['Last Updated'].dt.year"
      ],
      "metadata": {
        "id": "Pi80qeQCM8l7"
      },
      "execution_count": null,
      "outputs": []
    },
    {
      "cell_type": "code",
      "source": [
        "df.info()"
      ],
      "metadata": {
        "id": "I7lz2rAQNX_f"
      },
      "execution_count": null,
      "outputs": []
    },
    {
      "cell_type": "code",
      "source": [
        "df[df.duplicated('App')].shape"
      ],
      "metadata": {
        "id": "doh8WQTENr4b"
      },
      "execution_count": null,
      "outputs": []
    },
    {
      "cell_type": "markdown",
      "source": [
        "###Dataset having some duplicated record"
      ],
      "metadata": {
        "id": "fNoKdP5xOLJ0"
      }
    },
    {
      "cell_type": "code",
      "source": [
        "#droping duplicated record only keeping first record\n",
        "df=df.drop_duplicates(subset=['App'],keep='first')"
      ],
      "metadata": {
        "id": "tu-ohSuaOKaK"
      },
      "execution_count": null,
      "outputs": []
    },
    {
      "cell_type": "code",
      "source": [
        "df.shape"
      ],
      "metadata": {
        "id": "BT6LcXScOmjx"
      },
      "execution_count": null,
      "outputs": []
    },
    {
      "cell_type": "code",
      "source": [
        "df.duplicated().sum()"
      ],
      "metadata": {
        "id": "yg0dpQ73PBcf"
      },
      "execution_count": null,
      "outputs": []
    },
    {
      "cell_type": "code",
      "source": [
        "df['Category'].value_counts()"
      ],
      "metadata": {
        "id": "Hx-pme2tParS"
      },
      "execution_count": null,
      "outputs": []
    },
    {
      "cell_type": "code",
      "source": [
        "df['Type'].value_counts()"
      ],
      "metadata": {
        "id": "mzd0RLcqPl4H"
      },
      "execution_count": null,
      "outputs": []
    },
    {
      "cell_type": "code",
      "source": [
        "df['Content Rating'].value_counts()"
      ],
      "metadata": {
        "id": "WGaJcY7PPvCj"
      },
      "execution_count": null,
      "outputs": []
    },
    {
      "cell_type": "code",
      "source": [
        "df['Genres'].value_counts()"
      ],
      "metadata": {
        "id": "6C9MfSOfP9QW"
      },
      "execution_count": null,
      "outputs": []
    },
    {
      "cell_type": "code",
      "source": [
        "df[df['Rating']==5]"
      ],
      "metadata": {
        "id": "k8ywfn0rQMVW"
      },
      "execution_count": null,
      "outputs": []
    },
    {
      "cell_type": "code",
      "source": [
        "#Highest rated  apps in Comics Genres\n",
        "df[(df['Genres']=='Comics') & (df['Rating']==5)]"
      ],
      "metadata": {
        "id": "r6WxClWwMtSL"
      },
      "execution_count": null,
      "outputs": []
    },
    {
      "cell_type": "code",
      "source": [
        "#Highest rated  apps in Education Genres\n",
        "df[(df['Genres']=='Education') & (df['Rating']==5)] [0:5]"
      ],
      "metadata": {
        "id": "zkFZuEoxNXiy"
      },
      "execution_count": null,
      "outputs": []
    },
    {
      "cell_type": "code",
      "source": [
        "#top 5 Highest rated  games\n",
        "df[(df['Category']=='GAME') & (df['Rating']==5)] [0:5]"
      ],
      "metadata": {
        "id": "IHmnn3ToN-0C"
      },
      "execution_count": null,
      "outputs": []
    },
    {
      "cell_type": "code",
      "source": [
        "df['Installs'].nlargest()"
      ],
      "metadata": {
        "id": "1HxemOurOZWP"
      },
      "execution_count": null,
      "outputs": []
    },
    {
      "cell_type": "code",
      "source": [
        "#Most downloaded apps in playstore\n",
        "df[df['Installs']==1000000000] [0:5]"
      ],
      "metadata": {
        "id": "3OxGJABkOwwP"
      },
      "execution_count": null,
      "outputs": []
    },
    {
      "cell_type": "code",
      "source": [
        "df['Installs'].nsmallest()"
      ],
      "metadata": {
        "id": "T-v7WizSOqN-"
      },
      "execution_count": null,
      "outputs": []
    },
    {
      "cell_type": "code",
      "source": [
        "#Zero downloaded apps in playstore\n",
        "df[df['Installs']==0]"
      ],
      "metadata": {
        "id": "ft90Pe1jWoaa"
      },
      "execution_count": null,
      "outputs": []
    },
    {
      "cell_type": "code",
      "source": [
        "df.groupby('Type')['Rating'].mean()"
      ],
      "metadata": {
        "id": "erFED-HJQqAi"
      },
      "execution_count": null,
      "outputs": []
    },
    {
      "cell_type": "code",
      "source": [
        "df.groupby('Content Rating')['Rating'].mean()"
      ],
      "metadata": {
        "id": "M3R2-tuzRB3W"
      },
      "execution_count": null,
      "outputs": []
    },
    {
      "cell_type": "code",
      "source": [
        "df.groupby('Genres')['Rating'].mean()"
      ],
      "metadata": {
        "id": "vp80G148RQkr"
      },
      "execution_count": null,
      "outputs": []
    },
    {
      "cell_type": "code",
      "source": [
        "df.groupby('Category')['Rating'].mean()"
      ],
      "metadata": {
        "id": "0oxqknknRhQj"
      },
      "execution_count": null,
      "outputs": []
    },
    {
      "cell_type": "code",
      "source": [
        "pd.crosstab(df['Type'],df['Content Rating'])"
      ],
      "metadata": {
        "id": "LI6nNd_gRwQW"
      },
      "execution_count": null,
      "outputs": []
    },
    {
      "cell_type": "code",
      "source": [
        "df.groupby(df['Type'])['Installs'].mean()"
      ],
      "metadata": {
        "id": "YUVMewqactKB"
      },
      "execution_count": null,
      "outputs": []
    },
    {
      "cell_type": "code",
      "source": [
        "df['Rating'].mean()"
      ],
      "metadata": {
        "id": "phsA8MRtR1sf"
      },
      "execution_count": null,
      "outputs": []
    },
    {
      "cell_type": "code",
      "source": [
        "df['Rating'].median()"
      ],
      "metadata": {
        "id": "CrT5EA-VR86w"
      },
      "execution_count": null,
      "outputs": []
    },
    {
      "cell_type": "code",
      "source": [
        "df['Rating'].skew()"
      ],
      "metadata": {
        "id": "v0eOZdeoSAvy"
      },
      "execution_count": null,
      "outputs": []
    },
    {
      "cell_type": "markdown",
      "source": [
        "#####Rating is negatively skewed data. i.e Left skewed."
      ],
      "metadata": {
        "id": "W93-rWF8SFY8"
      }
    },
    {
      "cell_type": "code",
      "source": [
        "df['Rating'].kurt()"
      ],
      "metadata": {
        "id": "S957rvAVSO0w"
      },
      "execution_count": null,
      "outputs": []
    },
    {
      "cell_type": "markdown",
      "source": [
        "#####A kurtosis value of 5.12 for the 'Rating' column in  DataFrame indicates that the distribution of ratings is leptokurtic. This means the distribution has a sharper peak and heavier tails compared to a normal distribution."
      ],
      "metadata": {
        "id": "MiCHcYKaSVcJ"
      }
    },
    {
      "cell_type": "code",
      "source": [
        "df['Rating'].var()"
      ],
      "metadata": {
        "id": "6YlLLA9wTFAR"
      },
      "execution_count": null,
      "outputs": []
    },
    {
      "cell_type": "markdown",
      "source": [
        "#####A variance value of 0.288 for the 'Rating' column in  DataFrame indicates that the ratings are relatively close to the mean, suggesting low to moderate variability in the ratings."
      ],
      "metadata": {
        "id": "pp96zYoHTe5O"
      }
    },
    {
      "cell_type": "code",
      "source": [
        "df['Rating'].std()"
      ],
      "metadata": {
        "id": "PBndDdlKTk0g"
      },
      "execution_count": null,
      "outputs": []
    },
    {
      "cell_type": "markdown",
      "source": [
        "#####The standard deviation of 0.537 for the 'Rating' column in  DataFrame indicates that the ratings deviate, on average, about 0.537 units from the mean rating. This relatively small standard deviation suggests that the ratings are fairly tightly clustered around the mean, implying low to moderate variability."
      ],
      "metadata": {
        "id": "6XLdNMyIT3P_"
      }
    },
    {
      "cell_type": "code",
      "source": [
        "df['Installs'].mean()"
      ],
      "metadata": {
        "id": "jadZU-1_UKgY"
      },
      "execution_count": null,
      "outputs": []
    },
    {
      "cell_type": "code",
      "source": [
        "df['Installs'].median()"
      ],
      "metadata": {
        "id": "jTHQLmhmUQeX"
      },
      "execution_count": null,
      "outputs": []
    },
    {
      "cell_type": "code",
      "source": [
        "df['Installs'].max()"
      ],
      "metadata": {
        "id": "ZL99WCR9UWkK"
      },
      "execution_count": null,
      "outputs": []
    },
    {
      "cell_type": "code",
      "source": [
        "df['Installs'].min()"
      ],
      "metadata": {
        "id": "sfkcA7Q2UbX8"
      },
      "execution_count": null,
      "outputs": []
    },
    {
      "cell_type": "code",
      "source": [
        "df['Installs'].mode()"
      ],
      "metadata": {
        "id": "GuE_FxW1UeeK"
      },
      "execution_count": null,
      "outputs": []
    },
    {
      "cell_type": "code",
      "source": [
        "df['Installs'].var()"
      ],
      "metadata": {
        "id": "Azdod4YdUiW4"
      },
      "execution_count": null,
      "outputs": []
    },
    {
      "cell_type": "code",
      "source": [
        "df.describe()"
      ],
      "metadata": {
        "id": "5s8HhhRmXJZu"
      },
      "execution_count": null,
      "outputs": []
    },
    {
      "cell_type": "markdown",
      "source": [
        "### What all manipulations have you done and insights you found?"
      ],
      "metadata": {
        "id": "MSa1f5Uengrz"
      }
    },
    {
      "cell_type": "markdown",
      "source": [
        "#####I have applied various statistical measure to understand given dataset. I have found top categories in each generes."
      ],
      "metadata": {
        "id": "DAV95Gx1UuCm"
      }
    },
    {
      "cell_type": "markdown",
      "source": [
        "## ***4. Data Vizualization, Storytelling & Experimenting with charts : Understand the relationships between variables***"
      ],
      "metadata": {
        "id": "GF8Ens_Soomf"
      }
    },
    {
      "cell_type": "markdown",
      "source": [
        "#### Chart - 1"
      ],
      "metadata": {
        "id": "0wOQAZs5pc--"
      }
    },
    {
      "cell_type": "code",
      "source": [
        "# Chart - 1 visualization code\n",
        "plt.figure(figsize=(4,4))\n",
        "sns.kdeplot(df['Rating'],fill=True,color='#985ab8')"
      ],
      "metadata": {
        "id": "7v_ESjsspbW7"
      },
      "execution_count": null,
      "outputs": []
    },
    {
      "cell_type": "markdown",
      "source": [
        "##### 1. Why did you pick the specific chart?"
      ],
      "metadata": {
        "id": "K5QZ13OEpz2H"
      }
    },
    {
      "cell_type": "markdown",
      "source": [
        "To understand data distribution of Rating"
      ],
      "metadata": {
        "id": "XESiWehPqBRc"
      }
    },
    {
      "cell_type": "markdown",
      "source": [
        "##### 2. What is/are the insight(s) found from the chart?"
      ],
      "metadata": {
        "id": "lQ7QKXXCp7Bj"
      }
    },
    {
      "cell_type": "markdown",
      "source": [
        "Rating column data is left skewed data. More data lies on the right side."
      ],
      "metadata": {
        "id": "C_j1G7yiqdRP"
      }
    },
    {
      "cell_type": "markdown",
      "source": [
        "##### 3. Will the gained insights help creating a positive business impact?\n",
        "Are there any insights that lead to negative growth? Justify with specific reason."
      ],
      "metadata": {
        "id": "448CDAPjqfQr"
      }
    },
    {
      "cell_type": "markdown",
      "source": [
        "Most of the application rating is in range of 4-5 that is good for business purpose."
      ],
      "metadata": {
        "id": "3cspy4FjqxJW"
      }
    },
    {
      "cell_type": "markdown",
      "source": [
        "#### Chart - 2"
      ],
      "metadata": {
        "id": "KSlN3yHqYklG"
      }
    },
    {
      "cell_type": "code",
      "source": [
        "# Chart - 2 visualization code\n",
        "sns.kdeplot(df['Size'],fill=True,color='#985ab8')"
      ],
      "metadata": {
        "id": "R4YgtaqtYklH"
      },
      "execution_count": null,
      "outputs": []
    },
    {
      "cell_type": "markdown",
      "source": [
        "##### 1. Why did you pick the specific chart?"
      ],
      "metadata": {
        "id": "t6dVpIINYklI"
      }
    },
    {
      "cell_type": "markdown",
      "source": [
        "To understand distrubution of Size of App on playstore"
      ],
      "metadata": {
        "id": "5aaW0BYyYklI"
      }
    },
    {
      "cell_type": "markdown",
      "source": [
        "##### 2. What is/are the insight(s) found from the chart?"
      ],
      "metadata": {
        "id": "ijmpgYnKYklI"
      }
    },
    {
      "cell_type": "markdown",
      "source": [
        "Most of the application size is in range of 20000 - 40000 kb"
      ],
      "metadata": {
        "id": "PSx9atu2YklI"
      }
    },
    {
      "cell_type": "markdown",
      "source": [
        "####Chart 3"
      ],
      "metadata": {
        "id": "30m9NzoriGhB"
      }
    },
    {
      "cell_type": "code",
      "source": [
        "# Chart - 3 visualization code\n",
        "sns.kdeplot(data=df,x='Price',fill=True,color='#985ab8')"
      ],
      "metadata": {
        "id": "kZYG0FIvhysr"
      },
      "execution_count": null,
      "outputs": []
    },
    {
      "cell_type": "markdown",
      "source": [
        "######Most of the app price is 0 rupess i.e unpaid"
      ],
      "metadata": {
        "id": "oNmEHjiCiMHT"
      }
    },
    {
      "cell_type": "markdown",
      "source": [
        "#### Chart - 4"
      ],
      "metadata": {
        "id": "EM7whBJCYoAo"
      }
    },
    {
      "cell_type": "code",
      "source": [
        "# Chart - 4 visualization code\n",
        "sns.kdeplot(df['Month'],fill=True,color='#985ab8')"
      ],
      "metadata": {
        "id": "t6GMdE67YoAp"
      },
      "execution_count": null,
      "outputs": []
    },
    {
      "cell_type": "markdown",
      "source": [
        "######Mostly app is updated in 4 to 8 months"
      ],
      "metadata": {
        "id": "ww4WOv-HiZrX"
      }
    },
    {
      "cell_type": "markdown",
      "source": [
        "#### Chart - 5"
      ],
      "metadata": {
        "id": "4Of9eVA-YrdM"
      }
    },
    {
      "cell_type": "code",
      "source": [
        "# Chart - 5 visualization code\n",
        "sns.kdeplot(df['Year'],fill=True,color='#985ab8')"
      ],
      "metadata": {
        "id": "irlUoxc8YrdO"
      },
      "execution_count": null,
      "outputs": []
    },
    {
      "cell_type": "markdown",
      "source": [
        "###Most of the application are updated in year 2018"
      ],
      "metadata": {
        "id": "p21bolojW5ta"
      }
    },
    {
      "cell_type": "markdown",
      "source": [
        "#### Chart - 6"
      ],
      "metadata": {
        "id": "bamQiAODYuh1"
      }
    },
    {
      "cell_type": "code",
      "source": [
        "# Chart - 6 visualization code\n",
        "df['Category'].value_counts().plot(kind='bar', color='#296acc')"
      ],
      "metadata": {
        "id": "TIJwrbroYuh3"
      },
      "execution_count": null,
      "outputs": []
    },
    {
      "cell_type": "markdown",
      "source": [
        "##### 1. Why did you pick the specific chart?"
      ],
      "metadata": {
        "id": "QHF8YVU7Yuh3"
      }
    },
    {
      "cell_type": "markdown",
      "source": [
        "A bar chart is chosen for visualizing the value counts of the Category column because it effectively represents the frequency distribution of categorical data."
      ],
      "metadata": {
        "id": "dcxuIMRPYuh3"
      }
    },
    {
      "cell_type": "markdown",
      "source": [
        "##### 2. What is/are the insight(s) found from the chart?"
      ],
      "metadata": {
        "id": "GwzvFGzlYuh3"
      }
    },
    {
      "cell_type": "markdown",
      "source": [
        "The bar chart of the Play Store app categories reveals that the FAMILY category dominates with 1,832 entries, followed by GAME with 959 and TOOLS with 827, highlighting a significant focus on family-oriented, gaming, and utility apps."
      ],
      "metadata": {
        "id": "uyqkiB8YYuh3"
      }
    },
    {
      "cell_type": "markdown",
      "source": [
        "##### 3. Will the gained insights help creating a positive business impact?\n",
        "Are there any insights that lead to negative growth? Justify with specific reason."
      ],
      "metadata": {
        "id": "qYpmQ266Yuh3"
      }
    },
    {
      "cell_type": "markdown",
      "source": [
        "The high number of apps in categories like FAMILY, GAME, and TOOLS suggests significant market saturation. New entrants in these categories may face intense competition, making it harder to gain visibility and attract users."
      ],
      "metadata": {
        "id": "_WtzZ_hCYuh4"
      }
    },
    {
      "cell_type": "markdown",
      "source": [
        "#### Chart - 7"
      ],
      "metadata": {
        "id": "OH-pJp9IphqM"
      }
    },
    {
      "cell_type": "code",
      "source": [
        "# Chart - 7 visualization code\n",
        "sns.countplot(data=df,x='Type',palette=\"Set2\")\n",
        "plt.show()"
      ],
      "metadata": {
        "id": "kuRf4wtuphqN"
      },
      "execution_count": null,
      "outputs": []
    },
    {
      "cell_type": "markdown",
      "source": [
        "##### 1. Why did you pick the specific chart?"
      ],
      "metadata": {
        "id": "bbFf2-_FphqN"
      }
    },
    {
      "cell_type": "markdown",
      "source": [
        "The countplot chosen for visualizing the distribution of app types (free vs. paid) in the dataset because it effectively illustrates the count of each category within a categorical variable."
      ],
      "metadata": {
        "id": "loh7H2nzphqN"
      }
    },
    {
      "cell_type": "markdown",
      "source": [
        "##### 2. What is/are the insight(s) found from the chart?"
      ],
      "metadata": {
        "id": "_ouA3fa0phqN"
      }
    },
    {
      "cell_type": "markdown",
      "source": [
        "Most of the application are free."
      ],
      "metadata": {
        "id": "VECbqPI7phqN"
      }
    },
    {
      "cell_type": "markdown",
      "source": [
        "#### Chart - 8"
      ],
      "metadata": {
        "id": "PIIx-8_IphqN"
      }
    },
    {
      "cell_type": "code",
      "source": [
        "# Chart - 8 visualization code\n",
        "df['Content Rating'].value_counts().plot(kind='bar',color='#ba49a3')"
      ],
      "metadata": {
        "id": "lqAIGUfyphqO"
      },
      "execution_count": null,
      "outputs": []
    },
    {
      "cell_type": "markdown",
      "source": [
        "####The Content Rating distribution chart demonstrates that the majority of Play Store apps are designed for a general audience (Everyone), with a significant number targeting teens and a smaller portion for mature audiences."
      ],
      "metadata": {
        "id": "sQXMiUpkeUkY"
      }
    },
    {
      "cell_type": "markdown",
      "source": [
        "#### Chart - 9"
      ],
      "metadata": {
        "id": "BZR9WyysphqO"
      }
    },
    {
      "cell_type": "code",
      "source": [
        "# Chart - 9 visualization code\n",
        "selected_genres = ['Tools','Entertainment','Education','Business','Lifestyle', 'Action']\n",
        "\n",
        "# Filter the DataFrame to include only the selected genres\n",
        "filtered_df = df[df['Genres'].isin(selected_genres)]\n",
        "\n",
        "# Plotting the bar chart for the selected genres\n",
        "filtered_df['Genres'].value_counts().plot(kind='bar', color='#9a4bdb')\n",
        "\n",
        "plt.xlabel('Genres')\n",
        "plt.ylabel('Count')\n",
        "plt.show()"
      ],
      "metadata": {
        "id": "TdPTWpAVphqO"
      },
      "execution_count": null,
      "outputs": []
    },
    {
      "cell_type": "markdown",
      "source": [
        "#####The distribution of genres illustrates a broad spectrum of user interests on the Play Store. Tools, Entertainment, and Education dominate the landscape, indicating high demand in utility, leisure, and learning."
      ],
      "metadata": {
        "id": "8FIZu7rthZOJ"
      }
    },
    {
      "cell_type": "markdown",
      "source": [
        "#### Chart - 10"
      ],
      "metadata": {
        "id": "YJ55k-q6phqO"
      }
    },
    {
      "cell_type": "code",
      "source": [
        "# Chart - 10 visualization code\n",
        "df_cat_installs = df.groupby(['Category'])['Installs'].sum().sort_values(ascending = False).reset_index()\n",
        "df_cat_installs.Installs = df_cat_installs.Installs/1000000000 #converting into billions\n",
        "df2 = df_cat_installs.head(10)\n",
        "# plt.figure(figsize = (8,9))\n",
        "ax = sns.barplot(data = df2,x ='Installs',y = 'Category',palette='tab10')\n",
        "ax.set_xlabel('No. of Installations in Billions')\n",
        "ax.set_title(\"Most Popular Categories in Play Store\", size = 20)\n",
        "plt.show()"
      ],
      "metadata": {
        "id": "B2aS4O1ophqO"
      },
      "execution_count": null,
      "outputs": []
    },
    {
      "cell_type": "markdown",
      "source": [
        "####Game is most popular categroy download by a people."
      ],
      "metadata": {
        "id": "zETpUkLnmzT4"
      }
    },
    {
      "cell_type": "markdown",
      "source": [
        "#### Chart - 11"
      ],
      "metadata": {
        "id": "U2RJ9gkRphqQ"
      }
    },
    {
      "cell_type": "code",
      "source": [
        "# Chart - 11 visualization code\n",
        "sns.scatterplot(data=df, x='Rating', y='Reviews', color='#ba49a3')"
      ],
      "metadata": {
        "id": "GM7a4YP4phqQ"
      },
      "execution_count": null,
      "outputs": []
    },
    {
      "cell_type": "markdown",
      "source": [
        "#####If Rating increases Reviews also increases"
      ],
      "metadata": {
        "id": "ZWk4hmCLPfBS"
      }
    },
    {
      "cell_type": "markdown",
      "source": [
        "#### Chart - 12"
      ],
      "metadata": {
        "id": "x-EpHcCOp1ci"
      }
    },
    {
      "cell_type": "code",
      "source": [
        "# Chart - 12 visualization code\n",
        "sns.boxplot(data=df,x='Price')"
      ],
      "metadata": {
        "id": "mAQTIvtqp1cj"
      },
      "execution_count": null,
      "outputs": []
    },
    {
      "cell_type": "markdown",
      "source": [
        "#####Boxplot is used to find outlier. 400 is the largest price. Here outlier at right side."
      ],
      "metadata": {
        "id": "DEm7HW-4Pof2"
      }
    },
    {
      "cell_type": "markdown",
      "source": [
        "#### Chart - 13"
      ],
      "metadata": {
        "id": "n3dbpmDWp1ck"
      }
    },
    {
      "cell_type": "code",
      "source": [
        "# Chart - 12 visualization code\n",
        "sns.boxplot(data=df,x='Rating')"
      ],
      "metadata": {
        "id": "bwevp1tKp1ck"
      },
      "execution_count": null,
      "outputs": []
    },
    {
      "cell_type": "markdown",
      "source": [
        "####Boxplot is used to find outlier. Highest rating is 5 and lowest rating is 1. Here outlier at left side. Here 4.3 is a median values."
      ],
      "metadata": {
        "id": "wlGl4jr2P4SQ"
      }
    },
    {
      "cell_type": "markdown",
      "source": [
        "#### Chart - 14"
      ],
      "metadata": {
        "id": "Ag9LCva-p1cl"
      }
    },
    {
      "cell_type": "code",
      "source": [
        "# Chart - 13 visualization code\n",
        "sns.boxplot(data=df,x='Year')"
      ],
      "metadata": {
        "id": "EUfxeq9-p1cl"
      },
      "execution_count": null,
      "outputs": []
    },
    {
      "cell_type": "markdown",
      "source": [
        "#####Here outlier is at left side. 2018 is greatest year and 2010 is smallest year in dataset."
      ],
      "metadata": {
        "id": "bXOufsxtQMYD"
      }
    },
    {
      "cell_type": "markdown",
      "source": [
        "#### Chart - 15 - Correlation Heatmap"
      ],
      "metadata": {
        "id": "NC_X3p0fY2L0"
      }
    },
    {
      "cell_type": "code",
      "source": [
        "# Correlation Heatmap visualization code\n",
        "numeric_df = df.select_dtypes(include=['float64', 'int64'])\n",
        "corr_matrix = numeric_df.corr()\n",
        "sns.heatmap(corr_matrix, annot=True, cmap='coolwarm', fmt='.2f')"
      ],
      "metadata": {
        "id": "xyC9zolEZNRQ"
      },
      "execution_count": null,
      "outputs": []
    },
    {
      "cell_type": "markdown",
      "source": [
        "##### 1. Why did you pick the specific chart?"
      ],
      "metadata": {
        "id": "UV0SzAkaZNRQ"
      }
    },
    {
      "cell_type": "markdown",
      "source": [
        "A heat map is a 2-dimensional data visualization technique that represents the magnitude of individual values within a dataset as a color."
      ],
      "metadata": {
        "id": "DVPuT8LYZNRQ"
      }
    },
    {
      "cell_type": "markdown",
      "source": [
        "##### 2. What is/are the insight(s) found from the chart?"
      ],
      "metadata": {
        "id": "YPEH6qLeZNRQ"
      }
    },
    {
      "cell_type": "markdown",
      "source": [
        "Reviews and Installs are 63% dependent on each other. i.e There is positive correlation between Revies and Installs."
      ],
      "metadata": {
        "id": "bfSqtnDqZNRR"
      }
    },
    {
      "cell_type": "markdown",
      "source": [
        "#### Chart - 16 - Pair Plot"
      ],
      "metadata": {
        "id": "q29F0dvdveiT"
      }
    },
    {
      "cell_type": "code",
      "source": [
        "# Pair Plot visualization code\n",
        "sns.pairplot(df, diag_kind='kde', markers='o', hue=None)"
      ],
      "metadata": {
        "id": "o58-TEIhveiU"
      },
      "execution_count": null,
      "outputs": []
    },
    {
      "cell_type": "markdown",
      "source": [
        "Pairplot gives scatterplot and density plot between two variable."
      ],
      "metadata": {
        "id": "eMmPjTByveiU"
      }
    },
    {
      "cell_type": "markdown",
      "source": [
        "## **5. Solution to Business Objective**"
      ],
      "metadata": {
        "id": "JcMwzZxoAimU"
      }
    },
    {
      "cell_type": "markdown",
      "source": [
        "#### What do you suggest the client to achieve Business Objective ?\n",
        "Improving App Ratings: Enhancing user satisfaction and app quality to achieve higher ratings.\n",
        "Identifying Key Factors Affecting Ratings: Understanding what influences app ratings the most.\n",
        "Increasing App Downloads and User Engagement: Boosting the number of downloads and user engagement by analyzing app features, reviews, and ratings."
      ],
      "metadata": {
        "id": "8G2x9gOozGDZ"
      }
    },
    {
      "cell_type": "markdown",
      "source": [
        "1. Improving App Ratings\n",
        "Solution:\n",
        "\n",
        "Address Outliers: Since the distribution has high kurtosis, indicating more extreme ratings, it's crucial to analyze and address the causes of low ratings (outliers). Common reasons for low ratings often include bugs, crashes, poor user interface, or unmet expectations.\n",
        "Enhance Quality Control: Implement rigorous quality assurance and user testing processes to identify and fix issues before they affect users.\n",
        "Customer Feedback Loop: Actively seek and respond to user feedback. Implement a feedback mechanism within the app to quickly identify and resolve issues that users face.\n",
        "2. Identifying Key Factors Affecting Ratings\n",
        "Solution:\n",
        "\n",
        "Analyze Reviews: Perform sentiment analysis on user reviews to identify common themes and issues that impact ratings. Look for frequent mentions of specific problems or praise that correlate with high or low ratings.\n",
        "Feature Analysis: Examine the correlation between app features and ratings. Identify which features users rate highly and which features are commonly associated with lower ratings.\n",
        "Update Frequency: Determine the impact of update frequency on ratings. Regular updates that introduce new features or improvements can positively influence ratings.\n",
        "3. Increasing App Downloads and User Engagement\n",
        "Solution:\n",
        "\n",
        "Optimize App Store Listing: Ensure that the app description, screenshots, and promotional videos effectively highlight the app’s features and benefits. Positive ratings and reviews should be prominently displayed.\n",
        "Marketing Strategies: Use targeted marketing strategies to reach potential users who are likely to rate the app highly. Consider using social media, influencer partnerships, and app store advertisements.\n",
        "User Retention Strategies: Implement strategies to keep users engaged, such as loyalty programs, regular updates, and engaging content. Higher engagement often leads to better ratings as users feel more connected to the app."
      ],
      "metadata": {
        "id": "pASKb0qOza21"
      }
    },
    {
      "cell_type": "markdown",
      "source": [
        "# **Conclusion**"
      ],
      "metadata": {
        "id": "gCX9965dhzqZ"
      }
    },
    {
      "cell_type": "markdown",
      "source": [
        "The Play Store data analysis project aimed to enhance app performance by understanding and leveraging app ratings. The statistical analysis revealed a high kurtosis of 5.12, indicating a leptokurtic distribution with more extreme values, a variance of 0.288, suggesting low to moderate variability, and a standard deviation of 0.537, confirming tight clustering around the mean. To improve app ratings, it is crucial to address outliers by enhancing quality control and establishing a robust user feedback loop. Identifying key factors affecting ratings involves sentiment analysis of user reviews and assessing the impact of specific features and update frequency. Increasing downloads and engagement can be achieved by optimizing the app store listing, targeted marketing, and user retention strategies. Monitoring competitors, making data-driven decisions, and educating users are essential for continuous improvement. This data-driven approach is vital for improving user satisfaction, increasing ratings, and driving more downloads and engagement in the competitive app marketplace.\n",
        "\n",
        "\n",
        "\n",
        "\n",
        "\n",
        "\n"
      ],
      "metadata": {
        "id": "Fjb1IsQkh3yE"
      }
    }
  ]
}